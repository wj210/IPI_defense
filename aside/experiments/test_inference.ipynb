{
 "cells": [
  {
   "cell_type": "code",
   "execution_count": 2,
   "id": "281126d0",
   "metadata": {},
   "outputs": [],
   "source": [
    "import torch\n",
    "import numpy as np\n",
    "import os,sys\n",
    "if \"../..\" not in sys.path:\n",
    "    sys.path.append(\"../..\")\n",
    "from transformers import AutoModelForCausalLM, AutoConfig\n",
    "\n",
    "from model_api import CustomModelHandler, format_prompt\n",
    "from model import CustomLLaMA, CustomLlamaConfig\n",
    "from test_on_struq import *\n",
    "\n",
    "# import from 2 directories up\n",
    "notebook_dir = os.getcwd()\n",
    "# Go two directories up\n",
    "parent_dir = os.path.abspath(os.path.join(notebook_dir, \"../..\"))\n",
    "sys.path.append(parent_dir)\n",
    "from eval import *"
   ]
  },
  {
   "cell_type": "code",
   "execution_count": 11,
   "id": "e31b0095",
   "metadata": {},
   "outputs": [],
   "source": [
    "data_path = \"data/tatsu-lab/alpaca_farm/eval.json\"\n",
    "with open(data_path, \"r\") as f:\n",
    "    data = json.load(f)\n",
    "with open(\"data/prompt_templates.json\", \"r\") as f:\n",
    "    templates = json.load(f)\n",
    "template = templates[0]"
   ]
  },
  {
   "cell_type": "code",
   "execution_count": 3,
   "id": "db249a16",
   "metadata": {},
   "outputs": [
    {
     "name": "stderr",
     "output_type": "stream",
     "text": [
      "You are attempting to use Flash Attention 2.0 with a model not initialized on GPU. Make sure to move the model to GPU after initializing it on CPU with `model.to('cuda')`.\n"
     ]
    },
    {
     "name": "stdout",
     "output_type": "stream",
     "text": [
      "\n",
      " <class 'model.CustomQwenConfig'> <class 'model.QwenForwardRot'> \n",
      "\n",
      "CALLED load_vanilla_model_and_tokenizer on model Qwen2.5-7B_ASIDE and tokenizer Qwen2.5-7B_ASIDE\n",
      "Model config CustomQwenConfig {\n",
      "  \"add_linear_shift\": false,\n",
      "  \"architectures\": [\n",
      "    \"QwenForwardRot\"\n",
      "  ],\n",
      "  \"attention_dropout\": 0.0,\n",
      "  \"bos_token_id\": 151643,\n",
      "  \"eos_token_id\": 151645,\n",
      "  \"gradual_rotation\": false,\n",
      "  \"hidden_act\": \"silu\",\n",
      "  \"hidden_size\": 3584,\n",
      "  \"initializer_range\": 0.02,\n",
      "  \"intermediate_size\": 18944,\n",
      "  \"learned_rotation\": false,\n",
      "  \"max_position_embeddings\": 131072,\n",
      "  \"max_window_layers\": 28,\n",
      "  \"model_type\": \"qwen2\",\n",
      "  \"num_attention_heads\": 28,\n",
      "  \"num_hidden_layers\": 28,\n",
      "  \"num_key_value_heads\": 4,\n",
      "  \"pad_token_id\": 151643,\n",
      "  \"rms_norm_eps\": 1e-06,\n",
      "  \"rope_scaling\": null,\n",
      "  \"rope_theta\": 1000000.0,\n",
      "  \"rotation_alpha\": 1.57079633,\n",
      "  \"rotation_direction\": \"right\",\n",
      "  \"sliding_window\": 131072,\n",
      "  \"tie_word_embeddings\": false,\n",
      "  \"torch_dtype\": \"bfloat16\",\n",
      "  \"transformers_version\": \"4.52.4\",\n",
      "  \"use_cache\": false,\n",
      "  \"use_mrope\": false,\n",
      "  \"use_sliding_window\": false,\n",
      "  \"vocab_size\": 152064\n",
      "}\n",
      "\n",
      "alpha_t: 1.5703125 (dtype: torch.bfloat16)\n"
     ]
    },
    {
     "data": {
      "application/vnd.jupyter.widget-view+json": {
       "model_id": "aef5fdf8fb324dd983d2e43b6adf2ab5",
       "version_major": 2,
       "version_minor": 0
      },
      "text/plain": [
       "Loading checkpoint shards:   0%|          | 0/7 [00:00<?, ?it/s]"
      ]
     },
     "metadata": {},
     "output_type": "display_data"
    },
    {
     "name": "stdout",
     "output_type": "stream",
     "text": [
      "chat_template_path: None\n",
      "\n",
      " MODEL TYPE:  <class 'model.QwenForwardRot'>\n"
     ]
    }
   ],
   "source": [
    "embedding_type = 'forward_rot'\n",
    "base_model =  \"Qwen/Qwen2.5-7B\"\n",
    "model_path = \"Qwen2.5-7B_ASIDE\"\n",
    "device = 'cuda'\n",
    "handler = CustomModelHandler(\n",
    "    model_path, \n",
    "    base_model, \n",
    "    base_model, \n",
    "    model_path, \n",
    "    None,\n",
    "    0, \n",
    "    embedding_type=embedding_type, \n",
    "    load_from_checkpoint=True\n",
    ")\n",
    "handler.model.to(device)\n",
    "attack = 'id_naive'"
   ]
  },
  {
   "cell_type": "code",
   "execution_count": null,
   "id": "707dcf0a",
   "metadata": {},
   "outputs": [],
   "source": [
    "def generate_responses_batch(handler, template, examples, batch_size, injection_method):\n",
    "    \"\"\"\n",
    "    Generate model responses for a batch of examples with injected attacks.\n",
    "    \n",
    "    This function processes evaluation examples in batches, applying the specified\n",
    "    injection method to each example and collecting model responses for analysis.\n",
    "    \n",
    "    Args:\n",
    "        handler (CustomModelHandler): Initialized model handler\n",
    "        template (dict): Prompt template for formatting\n",
    "        examples (list): List of evaluation examples with 'instruction' and 'input' keys\n",
    "        batch_size (int): Number of examples to process per batch\n",
    "        injection_method (function): Attack function to apply to each input\n",
    "        \n",
    "    Returns:\n",
    "        list: Model responses for all examples\n",
    "        \n",
    "    Workflow:\n",
    "        1. Apply injection method to each example's input data\n",
    "        2. Format prompts using template system for proper instruction-data separation\n",
    "        3. Generate responses using batch API for efficiency\n",
    "        4. Collect all responses for success rate analysis\n",
    "        \n",
    "    Note:\n",
    "        Debug information is printed for the first example to verify attack application.\n",
    "    \"\"\"\n",
    "    responses = []\n",
    "    for start_idx in tqdm(range(0, len(examples), batch_size)):\n",
    "        end_idx = min(start_idx + batch_size, len(examples))\n",
    "        batch_data = deepcopy(examples[start_idx:end_idx])\n",
    "\n",
    "\n",
    "        inst_list = []\n",
    "        data_list = []\n",
    "        for i, example in enumerate(batch_data):\n",
    "\n",
    "            clean_input = example[\"input\"]\n",
    "            injected_sample = injection_method(example)\n",
    "            instruction = injected_sample[\"instruction\"]\n",
    "            injected_input = injected_sample[\"input\"]\n",
    "\n",
    "            # if start_idx == 0 and i == 0:\n",
    "            #     # For debugging purposes, print the first example\n",
    "            #     print(f\"Injection method: {injection_method.__name__}\")\n",
    "            #     print(f\"Instruction: {instruction}\")\n",
    "            #     print(f\"Clean input: {clean_input}\")\n",
    "            #     print(f\"Injected input: {injected_input}\")\n",
    "\n",
    "            instruction_text = format_prompt(instruction, template, \"system\")\n",
    "            data_text = format_prompt(injected_input, template, \"user\")\n",
    "            inst_list.append(instruction_text)\n",
    "            data_list.append(data_text)\n",
    "\n",
    "        batch_responses, batch_inps = handler.call_model_api_batch(\n",
    "            inst_list, data_list,max_new_tokens=512,do_sample = False\n",
    "        ) \n",
    "\n",
    "        responses.extend(batch_responses)\n",
    "\n",
    "    return responses "
   ]
  },
  {
   "cell_type": "code",
   "execution_count": 16,
   "id": "f78f0df3",
   "metadata": {},
   "outputs": [
    {
     "name": "stderr",
     "output_type": "stream",
     "text": [
      "  0%|                                                                                                                                                                                                                                | 0/1 [00:02<?, ?it/s]"
     ]
    },
    {
     "name": "stdout",
     "output_type": "stream",
     "text": [
      "Generation time: 2.780323 seconds\n"
     ]
    },
    {
     "name": "stderr",
     "output_type": "stream",
     "text": [
      "\n"
     ]
    }
   ],
   "source": [
    "attack = 'naive'\n",
    "responses = generate_responses_batch(handler,template,data[:8],8,eval(attack))\n"
   ]
  },
  {
   "cell_type": "code",
   "execution_count": null,
   "id": "364de2e6",
   "metadata": {},
   "outputs": [],
   "source": []
  }
 ],
 "metadata": {
  "kernelspec": {
   "display_name": "Python 3 (ipykernel)",
   "language": "python",
   "name": "python3"
  },
  "language_info": {
   "codemirror_mode": {
    "name": "ipython",
    "version": 3
   },
   "file_extension": ".py",
   "mimetype": "text/x-python",
   "name": "python",
   "nbconvert_exporter": "python",
   "pygments_lexer": "ipython3",
   "version": "3.10.0"
  }
 },
 "nbformat": 4,
 "nbformat_minor": 5
}
